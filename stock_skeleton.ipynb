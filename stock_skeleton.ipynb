{
 "cells": [
  {
   "attachments": {},
   "cell_type": "markdown",
   "metadata": {},
   "source": [
    "Prototyping notebook for predicting stock volaitility, prices, etc using extra data from web trends, news, etc. "
   ]
  },
  {
   "cell_type": "code",
   "execution_count": 1,
   "metadata": {},
   "outputs": [],
   "source": [
    "import pandas as pd\n",
    "import numpy as np\n",
    "import matplotlib.pyplot as plt\n",
    "from glob import glob\n",
    "from pickle import dump, load\n",
    "import os\n",
    "from yahooquery import Ticker\n",
    "from tqdm.notebook import tqdm"
   ]
  },
  {
   "attachments": {},
   "cell_type": "markdown",
   "metadata": {},
   "source": [
    "1) Download and extract https://www.kaggle.com/datasets/footballjoe789/us-stock-dataset\n",
    "\n",
    "2) Copy Stocks/ to the same directory as this notebook. You can delete the other files as they are not used (yet, at least)."
   ]
  },
  {
   "cell_type": "code",
   "execution_count": 2,
   "metadata": {},
   "outputs": [],
   "source": [
    "class stock_tickers():\n",
    "    \"\"\"A work-in-progress. Goal is to take stock ticker symbols and return a list of search terms for NLP web scraping. Officers, affiliated companies, company name, etc.\"\"\"\n",
    "    def __init__(self, file_path = 'Stocks/', file_ext = '.csv'):\n",
    "        self.delete_small_files(file_path, file_ext, min_size = 1000)\n",
    "        self.load_symbols(file_path, file_ext)\n",
    "        self.ticker_list_to_dataframe()\n",
    "        self.get_company_list()\n",
    "\n",
    "    def load_symbols(self, file_path = 'Stocks/', file_ext = '.csv'):\n",
    "        \"\"\"Find all the stock symbols in the directory and return a list of them.\"\"\"\n",
    "        self.stocks_symbols = [name.split('.')[0].split(\"\"\"\\\\\"\"\")[-1] for name in glob (file_path+'*'+file_ext)]\n",
    "        return self.stocks_symbols\n",
    "\n",
    "    def delete_small_files(self, file_path = 'Stocks/', file_ext = '.csv', min_size = 1000):\n",
    "        \"\"\"Delete any files smaller than min_size bytes.\"\"\"\n",
    "        self.load_symbols()\n",
    "        file_sizes = [os.path.getsize(file_path+name+file_ext) for name in self.stocks_symbols]\n",
    "        if min(file_sizes) < min_size:\n",
    "            for i in range(len(file_sizes)):\n",
    "                if file_sizes[i] < min_size:\n",
    "                    os.remove(file_path+self.stocks_symbols[i]+file_ext)\n",
    "\n",
    "    def ticker_list_to_dataframe(self):\n",
    "        self.data = pd.DataFrame(self.stocks_symbols, columns = ['Ticker'])\n",
    "\n",
    "    def get_company(self, ticker):\n",
    "        \"\"\"Return the company name for a given ticker.\"\"\"\n",
    "        #return self.yh_tickers[ticker].info['longName']\n",
    "        pass\n",
    "\n",
    "    def get_company_list(self):\n",
    "        \"\"\"Return a list of company names.\"\"\"\n",
    "        if not os.path.exists('company_list.pkl'):\n",
    "            self.yh_tickers = [Ticker(ticker) for ticker in self.stocks_symbols]\n",
    "            for t in tqdm(range(len(self.yh_tickers))):\n",
    "                self.yh_tickers[t] = self.yh_tickers[t].asset_profile\n",
    "            with open('company_list.pkl', 'wb') as f:\n",
    "                dump(self.yh_tickers, f)\n",
    "        else:\n",
    "            with open('company_list.pkl', 'rb') as f:\n",
    "                self.yh_tickers = load(f)\n",
    "        self.data['Company'] = self.data['Ticker'].apply(self.get_company)\n",
    "        return self.data['Company']\n",
    "\n",
    "tickers = stock_tickers()\n",
    "tickers.data.head()"
   ]
  },
  {
   "cell_type": "code",
   "execution_count": null,
   "metadata": {},
   "outputs": [],
   "source": [
    "count = 0\n",
    "for ticker in range(len(tickers.data)):\n",
    "    if tickers.data['Ticker'][ticker] != \"TSLA\":\n",
    "        count += 1\n",
    "    else:\n",
    "        print(tickers.data['Company'][ticker])\n",
    "        print(tickers.data['Ticker'][ticker])\n",
    "        print(ticker)\n",
    "        break"
   ]
  },
  {
   "cell_type": "code",
   "execution_count": null,
   "metadata": {},
   "outputs": [],
   "source": [
    "tickers.yh_tickers[6436]"
   ]
  },
  {
   "cell_type": "code",
   "execution_count": null,
   "metadata": {},
   "outputs": [],
   "source": [
    "# For every stock ticker symbol in stock_symbols, lookup the top executive and the company name.\n"
   ]
  },
  {
   "attachments": {},
   "cell_type": "markdown",
   "metadata": {},
   "source": [
    "Datasets:\n",
    "We need a historical dataset of stock prices.\n",
    "Secondly, we need a dataset of web trends for the same time period. \n",
    "\n",
    "On the other hand, once the model is trained, it needs to be able to aquire live data that looks the same as the training data.\n",
    "\n",
    "Possible sources:\n",
    "   - twitter\n",
    "   - google trends\n",
    "\n",
    "Possible models:\n",
    "    - Train a model to process text into an encoding\n",
    "    - Train a model to do stock price prediction\n",
    "    - Combine the two models to predict stock price/volatility (not sure which is best) from text with greater accuracy"
   ]
  },
  {
   "cell_type": "code",
   "execution_count": null,
   "metadata": {},
   "outputs": [],
   "source": [
    "# Collect text web data"
   ]
  },
  {
   "cell_type": "code",
   "execution_count": null,
   "metadata": {},
   "outputs": [],
   "source": [
    "# Collect stock data"
   ]
  },
  {
   "cell_type": "code",
   "execution_count": null,
   "metadata": {},
   "outputs": [],
   "source": [
    "# "
   ]
  },
  {
   "cell_type": "code",
   "execution_count": null,
   "metadata": {},
   "outputs": [],
   "source": []
  },
  {
   "cell_type": "code",
   "execution_count": null,
   "metadata": {},
   "outputs": [],
   "source": []
  }
 ],
 "metadata": {
  "kernelspec": {
   "display_name": "base",
   "language": "python",
   "name": "python3"
  },
  "language_info": {
   "codemirror_mode": {
    "name": "ipython",
    "version": 3
   },
   "file_extension": ".py",
   "mimetype": "text/x-python",
   "name": "python",
   "nbconvert_exporter": "python",
   "pygments_lexer": "ipython3",
   "version": "3.10.9"
  },
  "orig_nbformat": 4,
  "vscode": {
   "interpreter": {
    "hash": "e24d580cd90f25849c35d3c32f0c90265f2b368a4b7f3db1b2b3f5c38c67d965"
   }
  }
 },
 "nbformat": 4,
 "nbformat_minor": 2
}
