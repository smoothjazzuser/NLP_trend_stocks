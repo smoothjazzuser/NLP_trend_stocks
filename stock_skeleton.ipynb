{
 "cells": [
  {
   "attachments": {},
   "cell_type": "markdown",
   "metadata": {},
   "source": [
    "Prototyping notebook for predicting stock volaitility, prices, etc using extra data from web trends, news, etc. "
   ]
  },
  {
   "cell_type": "code",
   "execution_count": 22,
   "metadata": {},
   "outputs": [],
   "source": [
    "# %pip install compress_pickle[lz4] pandas numpy matplotlib yahooquery"
   ]
  },
  {
   "cell_type": "code",
   "execution_count": 23,
   "metadata": {},
   "outputs": [],
   "source": [
    "import pandas as pd\n",
    "import numpy as np\n",
    "import matplotlib.pyplot as plt\n",
    "from glob import glob\n",
    "from compress_pickle import dump, load\n",
    "import os\n",
    "from yahooquery import Ticker\n",
    "import timeit\n",
    "import time\n",
    "import datetime\n",
    "from aquire_stock_search_terms import aquire_stock_search_terms as aquire_terms"
   ]
  },
  {
   "attachments": {},
   "cell_type": "markdown",
   "metadata": {},
   "source": [
    "1) Download and extract https://www.kaggle.com/datasets/footballjoe789/us-stock-dataset\n",
    "\n",
    "2) Copy Stocks/ to data/. You can delete the other files as they are not used (yet, at least)."
   ]
  },
  {
   "cell_type": "code",
   "execution_count": 24,
   "metadata": {},
   "outputs": [],
   "source": [
    "search_terms = aquire_terms('data/Stocks/')\n"
   ]
  },
  {
   "cell_type": "code",
   "execution_count": 25,
   "metadata": {},
   "outputs": [
    {
     "data": {
      "text/html": [
       "<div>\n",
       "<style scoped>\n",
       "    .dataframe tbody tr th:only-of-type {\n",
       "        vertical-align: middle;\n",
       "    }\n",
       "\n",
       "    .dataframe tbody tr th {\n",
       "        vertical-align: top;\n",
       "    }\n",
       "\n",
       "    .dataframe thead th {\n",
       "        text-align: right;\n",
       "    }\n",
       "</style>\n",
       "<table border=\"1\" class=\"dataframe\">\n",
       "  <thead>\n",
       "    <tr style=\"text-align: right;\">\n",
       "      <th></th>\n",
       "      <th>Ticker</th>\n",
       "      <th>Company</th>\n",
       "      <th>Executive</th>\n",
       "      <th>Industry</th>\n",
       "      <th>quoteType</th>\n",
       "      <th>sector</th>\n",
       "    </tr>\n",
       "  </thead>\n",
       "  <tbody>\n",
       "    <tr>\n",
       "      <th>0</th>\n",
       "      <td>A</td>\n",
       "      <td>Agilent Technologies, Inc.</td>\n",
       "      <td>Michael McMullen</td>\n",
       "      <td>Diagnostics &amp; Research</td>\n",
       "      <td>EQUITY</td>\n",
       "      <td>Healthcare</td>\n",
       "    </tr>\n",
       "    <tr>\n",
       "      <th>1</th>\n",
       "      <td>AA</td>\n",
       "      <td>Alcoa Corporation</td>\n",
       "      <td>Roy Harvey</td>\n",
       "      <td>Aluminum</td>\n",
       "      <td>EQUITY</td>\n",
       "      <td>Basic Materials</td>\n",
       "    </tr>\n",
       "    <tr>\n",
       "      <th>2</th>\n",
       "      <td>AAC</td>\n",
       "      <td>Ares Acquisition Corporation</td>\n",
       "      <td>David Kaplan</td>\n",
       "      <td>Shell Companies</td>\n",
       "      <td>EQUITY</td>\n",
       "      <td>Financial Services</td>\n",
       "    </tr>\n",
       "    <tr>\n",
       "      <th>3</th>\n",
       "      <td>AACG</td>\n",
       "      <td>ATA Creativity Global</td>\n",
       "      <td>Xiaofeng Ma</td>\n",
       "      <td>Education &amp; Training Services</td>\n",
       "      <td>EQUITY</td>\n",
       "      <td>Consumer Defensive</td>\n",
       "    </tr>\n",
       "    <tr>\n",
       "      <th>4</th>\n",
       "      <td>AACI</td>\n",
       "      <td>Armada Acquisition Corp. I</td>\n",
       "      <td>Stephen Herbert</td>\n",
       "      <td>Shell Companies</td>\n",
       "      <td>EQUITY</td>\n",
       "      <td>Financial Services</td>\n",
       "    </tr>\n",
       "    <tr>\n",
       "      <th>...</th>\n",
       "      <td>...</td>\n",
       "      <td>...</td>\n",
       "      <td>...</td>\n",
       "      <td>...</td>\n",
       "      <td>...</td>\n",
       "      <td>...</td>\n",
       "    </tr>\n",
       "    <tr>\n",
       "      <th>7677</th>\n",
       "      <td>ZVSAW</td>\n",
       "      <td>None</td>\n",
       "      <td></td>\n",
       "      <td></td>\n",
       "      <td>EQUITY</td>\n",
       "      <td></td>\n",
       "    </tr>\n",
       "    <tr>\n",
       "      <th>7678</th>\n",
       "      <td>ZWS</td>\n",
       "      <td>Zurn Elkay Water Solutions Corporation</td>\n",
       "      <td>Todd Adams</td>\n",
       "      <td>Pollution &amp; Treatment Controls</td>\n",
       "      <td>EQUITY</td>\n",
       "      <td>Industrials</td>\n",
       "    </tr>\n",
       "    <tr>\n",
       "      <th>7679</th>\n",
       "      <td>ZYME</td>\n",
       "      <td>Zymeworks Inc.</td>\n",
       "      <td>Ali Tehrani PhD</td>\n",
       "      <td>Biotechnology</td>\n",
       "      <td>EQUITY</td>\n",
       "      <td>Healthcare</td>\n",
       "    </tr>\n",
       "    <tr>\n",
       "      <th>7680</th>\n",
       "      <td>ZYNE</td>\n",
       "      <td>Zynerba Pharmaceuticals, Inc.</td>\n",
       "      <td>Armando Anido MBA</td>\n",
       "      <td>Drug Manufacturers—Specialty &amp; Generic</td>\n",
       "      <td>EQUITY</td>\n",
       "      <td>Healthcare</td>\n",
       "    </tr>\n",
       "    <tr>\n",
       "      <th>7681</th>\n",
       "      <td>ZYXI</td>\n",
       "      <td>Zynex, Inc.</td>\n",
       "      <td>Daniel Moorhead</td>\n",
       "      <td>Medical Distribution</td>\n",
       "      <td>EQUITY</td>\n",
       "      <td>Healthcare</td>\n",
       "    </tr>\n",
       "  </tbody>\n",
       "</table>\n",
       "<p>7682 rows × 6 columns</p>\n",
       "</div>"
      ],
      "text/plain": [
       "     Ticker                                 Company          Executive  \\\n",
       "0         A              Agilent Technologies, Inc.   Michael McMullen   \n",
       "1        AA                       Alcoa Corporation         Roy Harvey   \n",
       "2       AAC            Ares Acquisition Corporation       David Kaplan   \n",
       "3      AACG                   ATA Creativity Global        Xiaofeng Ma   \n",
       "4      AACI              Armada Acquisition Corp. I    Stephen Herbert   \n",
       "...     ...                                     ...                ...   \n",
       "7677  ZVSAW                                    None                      \n",
       "7678    ZWS  Zurn Elkay Water Solutions Corporation         Todd Adams   \n",
       "7679   ZYME                          Zymeworks Inc.    Ali Tehrani PhD   \n",
       "7680   ZYNE           Zynerba Pharmaceuticals, Inc.  Armando Anido MBA   \n",
       "7681   ZYXI                             Zynex, Inc.    Daniel Moorhead   \n",
       "\n",
       "                                    Industry quoteType              sector  \n",
       "0                     Diagnostics & Research    EQUITY          Healthcare  \n",
       "1                                   Aluminum    EQUITY     Basic Materials  \n",
       "2                            Shell Companies    EQUITY  Financial Services  \n",
       "3              Education & Training Services    EQUITY  Consumer Defensive  \n",
       "4                            Shell Companies    EQUITY  Financial Services  \n",
       "...                                      ...       ...                 ...  \n",
       "7677                                            EQUITY                      \n",
       "7678          Pollution & Treatment Controls    EQUITY         Industrials  \n",
       "7679                           Biotechnology    EQUITY          Healthcare  \n",
       "7680  Drug Manufacturers—Specialty & Generic    EQUITY          Healthcare  \n",
       "7681                    Medical Distribution    EQUITY          Healthcare  \n",
       "\n",
       "[7682 rows x 6 columns]"
      ]
     },
     "execution_count": 25,
     "metadata": {},
     "output_type": "execute_result"
    }
   ],
   "source": [
    "search_terms.data"
   ]
  },
  {
   "cell_type": "code",
   "execution_count": 26,
   "metadata": {},
   "outputs": [
    {
     "name": "stdout",
     "output_type": "stream",
     "text": [
      "Tesla, Inc.\n",
      "TSLA\n",
      "6981\n"
     ]
    }
   ],
   "source": [
    "count = 0\n",
    "for ticker in range(len(search_terms.data)):\n",
    "    if search_terms.data['Ticker'][ticker] != \"TSLA\":\n",
    "        count += 1\n",
    "    else:\n",
    "        print(search_terms.data['Company'][ticker])\n",
    "        print(search_terms.data['Ticker'][ticker])\n",
    "        print(ticker)\n",
    "        break"
   ]
  },
  {
   "cell_type": "code",
   "execution_count": 27,
   "metadata": {},
   "outputs": [],
   "source": [
    "a = search_terms.data.iloc[6:7].Ticker.values[0]\n",
    "ttt = Ticker(a)"
   ]
  },
  {
   "cell_type": "code",
   "execution_count": 28,
   "metadata": {},
   "outputs": [
    {
     "data": {
      "text/plain": [
       "{'address1': '6862 Elm Street',\n",
       " 'address2': 'Suite 320',\n",
       " 'city': 'McLean',\n",
       " 'state': 'VA',\n",
       " 'zip': '22101-1720',\n",
       " 'country': 'United States',\n",
       " 'phone': '703 373 0200',\n",
       " 'fax': '703 373 0680',\n",
       " 'website': 'https://www.arlingtonasset.com',\n",
       " 'industry': 'REIT—Mortgage',\n",
       " 'sector': 'Real Estate',\n",
       " 'longBusinessSummary': 'Arlington Asset Investment Corp. (NYSE: AAIC) currently invests primarily in mortgage related and residential real estate and has elected to be taxed as a REIT. The Company is headquartered in the Washington, D.C. metropolitan area. For more information, please visit www.arlingtonasset.com.',\n",
       " 'fullTimeEmployees': 11,\n",
       " 'companyOfficers': [{'maxAge': 1,\n",
       "   'name': 'Mr. J. Rock Tonkel Jr., CPA',\n",
       "   'age': 59,\n",
       "   'title': 'Pres, CEO & Director',\n",
       "   'yearBorn': 1963,\n",
       "   'fiscalYear': 2021,\n",
       "   'totalPay': 1618545,\n",
       "   'exercisedValue': 0,\n",
       "   'unexercisedValue': 0},\n",
       "  {'maxAge': 1,\n",
       "   'name': 'Mr. Richard E. Konzmann',\n",
       "   'age': 54,\n",
       "   'title': 'Exec. VP, Treasurer & CFO',\n",
       "   'yearBorn': 1968,\n",
       "   'fiscalYear': 2021,\n",
       "   'totalPay': 979741,\n",
       "   'exercisedValue': 0,\n",
       "   'unexercisedValue': 0},\n",
       "  {'maxAge': 1,\n",
       "   'name': 'Mr. Benjamin J. Strickler',\n",
       "   'age': 40,\n",
       "   'title': 'Controller, Chief Accounting Officer & VP',\n",
       "   'yearBorn': 1982,\n",
       "   'exercisedValue': 0,\n",
       "   'unexercisedValue': 0},\n",
       "  {'maxAge': 1,\n",
       "   'name': 'Mr. D. Scott Parish',\n",
       "   'title': 'Sr. VP, Chief Admin. Officer & Corp. Sec.',\n",
       "   'exercisedValue': 0,\n",
       "   'unexercisedValue': 0},\n",
       "  {'maxAge': 1,\n",
       "   'name': 'Mr. Jim  Lindsay',\n",
       "   'title': 'Acting Chief Compliance Officer',\n",
       "   'exercisedValue': 0,\n",
       "   'unexercisedValue': 0},\n",
       "  {'maxAge': 1,\n",
       "   'name': 'Ms. Shannon Hawkins Small',\n",
       "   'title': 'Sr. VP and Director of Marketing & Communications',\n",
       "   'exercisedValue': 0,\n",
       "   'unexercisedValue': 0},\n",
       "  {'maxAge': 1,\n",
       "   'name': 'Mr. Joseph  Nardini',\n",
       "   'title': 'Managing Director of Diversified Industrials Investment Banking Group',\n",
       "   'exercisedValue': 0,\n",
       "   'unexercisedValue': 0},\n",
       "  {'maxAge': 1,\n",
       "   'name': 'Ms. Claire F. Newman',\n",
       "   'title': 'Managing Director of Institutional Sales Admin.',\n",
       "   'exercisedValue': 0,\n",
       "   'unexercisedValue': 0},\n",
       "  {'maxAge': 1,\n",
       "   'name': 'Mr. Philip C. Gardner',\n",
       "   'age': 79,\n",
       "   'title': 'Sr. Managing Director of Institutional Sales of San Francisco',\n",
       "   'yearBorn': 1943,\n",
       "   'exercisedValue': 0,\n",
       "   'unexercisedValue': 0},\n",
       "  {'maxAge': 1,\n",
       "   'name': 'Ms. Caroline M. Carey',\n",
       "   'title': 'Managing Director of Healthcare',\n",
       "   'exercisedValue': 0,\n",
       "   'unexercisedValue': 0}],\n",
       " 'compensationAsOfEpochDate': '2021-12-30 18:00:00',\n",
       " 'maxAge': 1,\n",
       " 'exchange': 'NYQ',\n",
       " 'quoteType': 'EQUITY',\n",
       " 'symbol': 'AAIC',\n",
       " 'underlyingSymbol': 'AAIC',\n",
       " 'shortName': 'Arlington Asset Investment Corp',\n",
       " 'longName': 'Arlington Asset Investment Corp.',\n",
       " 'firstTradeDateEpochUtc': '1997-12-23 08:30:00',\n",
       " 'timeZoneFullName': 'America/New_York',\n",
       " 'timeZoneShortName': 'EST',\n",
       " 'uuid': '6f68b3b3-bc4e-3cfc-92cf-b7f2321bba88',\n",
       " 'messageBoardId': 'finmb_20323',\n",
       " 'gmtOffSetMilliseconds': -18000000}"
      ]
     },
     "execution_count": 28,
     "metadata": {},
     "output_type": "execute_result"
    }
   ],
   "source": [
    "ttt.quote_type[a]\n",
    "{**ttt.asset_profile[a], **ttt.quote_type[a]}\n",
    "#self.yh_tickers[t] = {**self.yh_tickers[t], **more_info}"
   ]
  },
  {
   "cell_type": "code",
   "execution_count": 29,
   "metadata": {},
   "outputs": [
    {
     "data": {
      "text/plain": [
       "{'exchange': 'NYQ',\n",
       " 'quoteType': 'EQUITY',\n",
       " 'symbol': 'AAIN',\n",
       " 'underlyingSymbol': 'AAIN',\n",
       " 'shortName': 'Arlington Asset Investment Corp',\n",
       " 'longName': None,\n",
       " 'firstTradeDateEpochUtc': '2021-07-19 08:30:00',\n",
       " 'timeZoneFullName': 'America/New_York',\n",
       " 'timeZoneShortName': 'EST',\n",
       " 'uuid': '6a83b0b9-f174-3be1-940d-58834cd7fd8d',\n",
       " 'gmtOffSetMilliseconds': -18000000,\n",
       " 'maxAge': 1}"
      ]
     },
     "execution_count": 29,
     "metadata": {},
     "output_type": "execute_result"
    }
   ],
   "source": [
    "officers = search_terms.yh_tickers[6436]\n",
    "officers = search_terms.yh_tickers[7]\n",
    "officers"
   ]
  },
  {
   "cell_type": "code",
   "execution_count": 30,
   "metadata": {},
   "outputs": [],
   "source": [
    "# For every stock ticker symbol in stock_symbols, lookup the top executive and the company name.\n"
   ]
  },
  {
   "attachments": {},
   "cell_type": "markdown",
   "metadata": {},
   "source": [
    "Datasets:\n",
    "We need a historical dataset of stock prices.\n",
    "Secondly, we need a dataset of web trends for the same time period. \n",
    "\n",
    "On the other hand, once the model is trained, it needs to be able to aquire live data that looks the same as the training data.\n",
    "\n",
    "Possible sources:\n",
    "   - twitter\n",
    "   - google trends\n",
    "\n",
    "Possible models:\n",
    "    - Train a model to process text into an encoding\n",
    "    - Train a model to do stock price prediction\n",
    "    - Combine the two models to predict stock price/volatility (not sure which is best) from text with greater accuracy"
   ]
  }
 ],
 "metadata": {
  "kernelspec": {
   "display_name": "base",
   "language": "python",
   "name": "python3"
  },
  "language_info": {
   "codemirror_mode": {
    "name": "ipython",
    "version": 3
   },
   "file_extension": ".py",
   "mimetype": "text/x-python",
   "name": "python",
   "nbconvert_exporter": "python",
   "pygments_lexer": "ipython3",
   "version": "3.10.9"
  },
  "orig_nbformat": 4,
  "vscode": {
   "interpreter": {
    "hash": "e24d580cd90f25849c35d3c32f0c90265f2b368a4b7f3db1b2b3f5c38c67d965"
   }
  }
 },
 "nbformat": 4,
 "nbformat_minor": 2
}
