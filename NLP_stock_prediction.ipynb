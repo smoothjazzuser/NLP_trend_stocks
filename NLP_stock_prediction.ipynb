{
 "cells": [
  {
   "attachments": {},
   "cell_type": "markdown",
   "metadata": {
    "slideshow": {
     "slide_type": "notes"
    }
   },
   "source": [
    "        Prototyping notebook for predicting stock volaitility, prices, etc using extra data from web trends, news, etc. "
   ]
  },
  {
   "cell_type": "code",
   "execution_count": null,
   "metadata": {},
   "outputs": [],
   "source": [
    "import warnings\n",
    "warnings.filterwarnings('ignore')\n",
    "import pandas as pd\n",
    "pd.set_option('io.parquet.engine', 'pyarrow')\n",
    "import numpy as np\n",
    "import seaborn\n",
    "from glob import glob\n",
    "from matplotlib import pyplot as plt\n",
    "import os\n",
    "import gc, os\n",
    "from getpass import getpass\n",
    "from utils import *\n",
    "from models import siamese_model_dense, triplet_loss, siamese_network, classify_single_input, prep_triplet_data, train_siamese, prep_tensor_ds, train_emotion_classifier\n",
    "import transformers\n",
    "from tqdm.notebook import tqdm\n",
    "import gc\n",
    "from sklearn.model_selection import train_test_split\n",
    "import scipy\n",
    "from transformers import AutoModelForSequenceClassification, AutoConfig\n",
    "import torch\n",
    "import torch.nn as nn\n",
    "import torch.utils.data as data\n",
    "\n",
    "cuda = torch.device(\"cuda\")\n",
    "cpu = torch.device(\"cpu\")\n",
    "seed=42\n",
    "np.random.seed(seed)\n",
    "torch.manual_seed(seed)\n",
    "rng = np.random.default_rng(seed=seed) \n",
    "# if you don't need the API downloads, you can set this to False\n",
    "use_api = False \n",
    "\n",
    "print('Available GPU memory:', available_mem(), 'GB')"
   ]
  },
  {
   "cell_type": "code",
   "execution_count": null,
   "metadata": {},
   "outputs": [],
   "source": [
    "# After this first run, you will only need to enter the password to load the api keys.\n",
    "if use_api:\n",
    "    # Ask for input of password to save API keys\n",
    "    password = getpass(\"Enter password to save/load API keys: \");\n",
    "    kaggle_api_key = fernet_key_encryption(password, 'Kaggle');\n",
    "    #td_ameritrade_api_key = fernet_key_encryption(password, 'TD_Ameritrade')\n",
    "    #data_nasdaq_key = fernet_key_encryption(password, 'Nasdaq');\n",
    "    del password;\n",
    "    gc.collect();\n",
    "    get_datasets(kaggle_api_key)"
   ]
  },
  {
   "cell_type": "code",
   "execution_count": null,
   "metadata": {},
   "outputs": [],
   "source": [
    "search_terms = aquire_stock_search_terms('data/Stock/')"
   ]
  },
  {
   "cell_type": "code",
   "execution_count": null,
   "metadata": {},
   "outputs": [],
   "source": [
    "classes, train_triplets, test_triplets, x_train, y_train, x_test, y_test = prep_triplet_data(MODEL=f\"cardiffnlp/twitter-xlm-roberta-base-sentiment\")\n",
    "ds_train, ds_test = prep_tensor_ds( x_train, y_train, x_test, y_test)\n",
    "\n",
    "siamese_network_model = siamese_network(classes)\n",
    "siamese_network_model = siamese_network_model.to(cuda)\n"
   ]
  },
  {
   "cell_type": "code",
   "execution_count": null,
   "metadata": {},
   "outputs": [],
   "source": [
    "siamese_model, history = train_siamese(train_triplets, test_triplets, siamese_network_model, epochs=1)\n",
    "for param in siamese_network_model.base.parameters():\n",
    "    param.requires_grad = False\n",
    "for param in siamese_network_model.parameters():\n",
    "    param.requires_grad = False"
   ]
  },
  {
   "cell_type": "code",
   "execution_count": null,
   "metadata": {},
   "outputs": [],
   "source": [
    "model = classify_single_input(siamese_network_model)\n",
    "model = model.to(cuda)\n",
    "model, history = train_emotion_classifier(model, ds_train, ds_test, epochs=1)"
   ]
  }
 ],
 "metadata": {
  "kernelspec": {
   "display_name": "base",
   "language": "python",
   "name": "python3"
  },
  "language_info": {
   "codemirror_mode": {
    "name": "ipython",
    "version": 3
   },
   "file_extension": ".py",
   "mimetype": "text/x-python",
   "name": "python",
   "nbconvert_exporter": "python",
   "pygments_lexer": "ipython3",
   "version": "3.10.9"
  },
  "orig_nbformat": 4,
  "vscode": {
   "interpreter": {
    "hash": "ee6f859ee4f4f4627489a966496f20487f69a100034e62284b5cd55bca112eb0"
   }
  }
 },
 "nbformat": 4,
 "nbformat_minor": 2
}
