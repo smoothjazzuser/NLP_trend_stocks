{
 "cells": [
  {
   "attachments": {},
   "cell_type": "markdown",
   "metadata": {},
   "source": [
    "Prototyping notebook for predicting stock volaitility, prices, etc using extra data from web trends, news, etc. "
   ]
  },
  {
   "attachments": {},
   "cell_type": "markdown",
   "metadata": {},
   "source": [
    "1) Download and extract https://www.kaggle.com/datasets/footballjoe789/us-stock-dataset\n",
    "\n",
    "2) python packages needed: compress_pickle[lz4] pandas numpy yahooquery seaborn\n",
    "\n",
    "2) From the stock dataset, copy \"Stock_List.csv\" and \"Stocks/*\" to \"data/\". You can delete the other files as they are not used (at least yet)."
   ]
  },
  {
   "cell_type": "code",
   "execution_count": 1,
   "metadata": {},
   "outputs": [],
   "source": [
    "try:\n",
    "    import pandas as pd\n",
    "    import numpy as np\n",
    "    import seaborn\n",
    "    from glob import glob\n",
    "    from compress_pickle import dump, load\n",
    "    import os\n",
    "    from yahooquery import Ticker\n",
    "    import timeit\n",
    "    import time\n",
    "    import gc, os\n",
    "    import datetime\n",
    "    from getpass import getpass\n",
    "except ModuleNotFoundError as e:\n",
    "    print(e)\n",
    "    print('Please install the missing module(s)')\n",
    "    print(\"pip install compress_pickle[lz4] pandas numpy yahooquery cryptography seaborn\")\n",
    "    \n",
    "from utils import fernet_key_encryption, aquire_stock_search_terms as aquire_terms, get_macroeconomic_data as macro_data"
   ]
  },
  {
   "cell_type": "code",
   "execution_count": null,
   "metadata": {},
   "outputs": [],
   "source": [
    "# This section will first ask you to set a password. After this, you will be prompted to enter any api keys to store in an encrypted file. \n",
    "# After this first run, you will only need to enter the password to load the api keys.\n",
    "# If you need to change the keys or password, delete the relevent .secret keys file and run this section again.\n",
    "# salt.secret is a non-sensitive file that is used to both generate the encryption key as well as decryption. If this key is lost, the encrypted files are lost and you will need to re-enter the api keys.\n",
    "\n",
    "\n",
    "# Ask for input of password to save API keys\n",
    "password = getpass(\"Enter password to save/load API keys: \");\n",
    "\n",
    "# Ask for Kaggle API key\n",
    "kaggle_api_key = fernet_key_encryption(password, 'Kaggle')\n",
    "\n",
    "# Ask for TD Ameritrade API key\n",
    "#td_ameritrade_api_key = fernet_key_encryption(password, 'TD Ameritrade')\n",
    "\n",
    "data_nasdaq = fernet_key_encryption(password, 'Nasdaq')\n",
    "\n",
    "\n",
    "\n",
    "del password\n",
    "gc.collect()"
   ]
  },
  {
   "cell_type": "code",
   "execution_count": null,
   "metadata": {},
   "outputs": [],
   "source": [
    "# Gather the company info for all the ticker symbols and return a dataframe with relevant search terms for each company.\n",
    "search_terms = aquire_terms('data/Stocks/')\n",
    "search_terms.data"
   ]
  },
  {
   "cell_type": "code",
   "execution_count": null,
   "metadata": {},
   "outputs": [],
   "source": [
    "# gether historical macroeconomic data from different sources.\n",
    "macro_data = macro_data('data/Macro/')"
   ]
  },
  {
   "attachments": {},
   "cell_type": "markdown",
   "metadata": {},
   "source": [
    "Datasets:\n",
    "We need a historical dataset of stock prices.\n",
    "Secondly, we need a dataset of web trends for the same time period. \n",
    "\n",
    "On the other hand, once the model is trained, it needs to be able to aquire live data that looks the same as the training data.\n",
    "\n",
    "Possible sources:\n",
    "   - twitter\n",
    "   - google trends\n",
    "\n",
    "Possible models:\n",
    "    - Train a model to process text into an encoding\n",
    "    - Train a model to do stock price prediction\n",
    "    - Combine the two models to predict stock price/volatility (not sure which is best) from text with greater accuracy"
   ]
  }
 ],
 "metadata": {
  "kernelspec": {
   "display_name": "base",
   "language": "python",
   "name": "python3"
  },
  "language_info": {
   "codemirror_mode": {
    "name": "ipython",
    "version": 3
   },
   "file_extension": ".py",
   "mimetype": "text/x-python",
   "name": "python",
   "nbconvert_exporter": "python",
   "pygments_lexer": "ipython3",
   "version": "3.9.16"
  },
  "orig_nbformat": 4,
  "vscode": {
   "interpreter": {
    "hash": "ee6f859ee4f4f4627489a966496f20487f69a100034e62284b5cd55bca112eb0"
   }
  }
 },
 "nbformat": 4,
 "nbformat_minor": 2
}
