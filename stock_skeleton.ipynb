{
 "cells": [
  {
   "attachments": {},
   "cell_type": "markdown",
   "metadata": {},
   "source": [
    "Prototyping notebook for predicting stock volaitility, prices, etc using extra data from web trends, news, etc. "
   ]
  },
  {
   "cell_type": "code",
   "execution_count": 60,
   "metadata": {},
   "outputs": [],
   "source": [
    "import pandas as pd\n",
    "import numpy as np\n",
    "import matplotlib.pyplot as plt\n",
    "from glob import glob\n",
    "from pickle import dump, load\n",
    "import os\n",
    "from yahooquery import Ticker\n",
    "from tqdm.notebook import tqdm\n",
    "import timeit"
   ]
  },
  {
   "attachments": {},
   "cell_type": "markdown",
   "metadata": {},
   "source": [
    "1) Download and extract https://www.kaggle.com/datasets/footballjoe789/us-stock-dataset\n",
    "\n",
    "2) Copy Stocks/ to the same directory as this notebook. You can delete the other files as they are not used (yet, at least)."
   ]
  },
  {
   "cell_type": "code",
   "execution_count": 61,
   "metadata": {},
   "outputs": [
    {
     "data": {
      "application/vnd.jupyter.widget-view+json": {
       "model_id": "c681cb118b82479e8052eb829f9b137c",
       "version_major": 2,
       "version_minor": 0
      },
      "text/plain": [
       "  0%|          | 0/7105 [00:00<?, ?it/s]"
      ]
     },
     "metadata": {},
     "output_type": "display_data"
    },
    {
     "data": {
      "text/html": [
       "<div>\n",
       "<style scoped>\n",
       "    .dataframe tbody tr th:only-of-type {\n",
       "        vertical-align: middle;\n",
       "    }\n",
       "\n",
       "    .dataframe tbody tr th {\n",
       "        vertical-align: top;\n",
       "    }\n",
       "\n",
       "    .dataframe thead th {\n",
       "        text-align: right;\n",
       "    }\n",
       "</style>\n",
       "<table border=\"1\" class=\"dataframe\">\n",
       "  <thead>\n",
       "    <tr style=\"text-align: right;\">\n",
       "      <th></th>\n",
       "      <th>Ticker</th>\n",
       "      <th>Company</th>\n",
       "      <th>Executive</th>\n",
       "    </tr>\n",
       "  </thead>\n",
       "  <tbody>\n",
       "    <tr>\n",
       "      <th>0</th>\n",
       "      <td>A</td>\n",
       "      <td>None</td>\n",
       "      <td>Michael McMullen</td>\n",
       "    </tr>\n",
       "    <tr>\n",
       "      <th>1</th>\n",
       "      <td>AA</td>\n",
       "      <td>None</td>\n",
       "      <td>Roy Harvey</td>\n",
       "    </tr>\n",
       "    <tr>\n",
       "      <th>2</th>\n",
       "      <td>AAC</td>\n",
       "      <td>None</td>\n",
       "      <td>David Kaplan</td>\n",
       "    </tr>\n",
       "    <tr>\n",
       "      <th>3</th>\n",
       "      <td>AACG</td>\n",
       "      <td>None</td>\n",
       "      <td>Xiaofeng Ma</td>\n",
       "    </tr>\n",
       "    <tr>\n",
       "      <th>4</th>\n",
       "      <td>AACI</td>\n",
       "      <td>None</td>\n",
       "      <td>Stephen Herbert</td>\n",
       "    </tr>\n",
       "  </tbody>\n",
       "</table>\n",
       "</div>"
      ],
      "text/plain": [
       "  Ticker Company         Executive\n",
       "0      A    None  Michael McMullen\n",
       "1     AA    None        Roy Harvey\n",
       "2    AAC    None      David Kaplan\n",
       "3   AACG    None       Xiaofeng Ma\n",
       "4   AACI    None   Stephen Herbert"
      ]
     },
     "execution_count": 61,
     "metadata": {},
     "output_type": "execute_result"
    }
   ],
   "source": [
    "class stock_tickers():\n",
    "    \"\"\"A work-in-progress. Goal is to take stock ticker symbols and return a list of search terms for NLP web scraping. Officers, affiliated companies, company name, etc.\"\"\"\n",
    "    def __init__(self, file_path = 'Stocks/', file_ext = '.csv'):\n",
    "        self.delete_small_files(file_path, file_ext, min_size = 1000)\n",
    "        self.load_symbols(file_path, file_ext)\n",
    "        self.ticker_list_to_dataframe()\n",
    "        self.get_company_list()\n",
    "        self.process_information()\n",
    "\n",
    "    def load_symbols(self, file_path = 'Stocks/', file_ext = '.csv'):\n",
    "        \"\"\"Find all the stock symbols in the directory and return a list of them.\"\"\"\n",
    "        self.stocks_symbols = [name.split('.')[0].split(\"\"\"\\\\\"\"\")[-1] for name in glob (file_path+'*'+file_ext)]\n",
    "        return self.stocks_symbols\n",
    "\n",
    "    def delete_small_files(self, file_path = 'Stocks/', file_ext = '.csv', min_size = 1000):\n",
    "        \"\"\"Delete any files smaller than min_size bytes.\"\"\"\n",
    "        self.load_symbols()\n",
    "        file_sizes = [os.path.getsize(file_path+name+file_ext) for name in self.stocks_symbols]\n",
    "        if min(file_sizes) < min_size:\n",
    "            for i in range(len(file_sizes)):\n",
    "                if file_sizes[i] < min_size:\n",
    "                    os.remove(file_path+self.stocks_symbols[i]+file_ext)\n",
    "\n",
    "    def ticker_list_to_dataframe(self):\n",
    "        self.data = pd.DataFrame(self.stocks_symbols, columns = ['Ticker'])\n",
    "\n",
    "    def get_company(self, ticker):\n",
    "        \"\"\"Return the company name for a given ticker.\"\"\"\n",
    "        #return self.yh_tickers[ticker].info['longName']\n",
    "        pass\n",
    "\n",
    "    def get_company_officers(self, index):\n",
    "        try:\n",
    "            officers = tickers.yh_tickers[index][\"companyOfficers\"]\n",
    "            officers = sorted(officers, key = lambda x: x['unexercisedValue'], reverse = True)\n",
    "            officer = officers[0]['name'].replace(\"Mr. \", \"\").replace(\"Ms. \", \"\").replace(\"Dr. \", \"\").replace(\"Mrs. \", \"\").replace(\".\", \"\").split(\" \")\n",
    "            officer = [x for x in officer if len(x) > 1]\n",
    "            officer = \" \".join(officer)\n",
    "        except:\n",
    "            officer = \"\"\n",
    "        return officer\n",
    "\n",
    "    def get_company_list(self):\n",
    "        \"\"\"Return a list of company information for later processing. Caches results to file.\"\"\"\n",
    "        if not os.path.exists('company_list.pkl'):\n",
    "            self.yh_tickers = [Ticker(ticker) for ticker in self.stocks_symbols]\n",
    "            start = timeit.default_timer()\n",
    "            for t in range(len(self.yh_tickers)):\n",
    "                sym = self.stocks_symbols[t]\n",
    "                time_now = timeit.default_timer()\n",
    "                print(f\"{round(100*t/len(self.yh_tickers),1)}% complete.\", \"Estimated time left:\", round((time_now-start)*(len(self.yh_tickers)-t)/(t+1),0), \"seconds. Symbol:\", self.stocks_symbols[t], end = '\\r')\n",
    "                self.yh_tickers[t] = self.yh_tickers[t].asset_profile[sym]\n",
    "            with open('company_list.pkl', 'wb') as f:\n",
    "                dump(self.yh_tickers, f)\n",
    "        else:\n",
    "            with open('company_list.pkl', 'rb') as f:\n",
    "                self.yh_tickers = load(f)\n",
    "    \n",
    "    def process_information(self):\n",
    "        self.data['Company'] = self.data['Ticker'].apply(self.get_company)\n",
    "        self.data[\"Executive\"] = [self.get_company_officers(t) for t in tqdm(range(len(self.yh_tickers)))] \n",
    "\n",
    "tickers = stock_tickers()\n",
    "tickers.data.head()"
   ]
  },
  {
   "cell_type": "code",
   "execution_count": 62,
   "metadata": {},
   "outputs": [
    {
     "name": "stdout",
     "output_type": "stream",
     "text": [
      "None\n",
      "TSLA\n",
      "6436\n"
     ]
    }
   ],
   "source": [
    "count = 0\n",
    "for ticker in range(len(tickers.data)):\n",
    "    if tickers.data['Ticker'][ticker] != \"TSLA\":\n",
    "        count += 1\n",
    "    else:\n",
    "        print(tickers.data['Company'][ticker])\n",
    "        print(tickers.data['Ticker'][ticker])\n",
    "        print(ticker)\n",
    "        break"
   ]
  },
  {
   "cell_type": "code",
   "execution_count": 70,
   "metadata": {},
   "outputs": [
    {
     "data": {
      "text/plain": [
       "{'address1': '1 Tesla Road',\n",
       " 'city': 'Austin',\n",
       " 'state': 'TX',\n",
       " 'zip': '78725',\n",
       " 'country': 'United States',\n",
       " 'phone': '512 516 8177',\n",
       " 'website': 'https://www.tesla.com',\n",
       " 'industry': 'Auto Manufacturers',\n",
       " 'sector': 'Consumer Cyclical',\n",
       " 'longBusinessSummary': 'Tesla, Inc. designs, develops, manufactures, leases, and sells electric vehicles, and energy generation and storage systems in the United States, China, and internationally. It operates in two segments, Automotive, and Energy Generation and Storage. The Automotive segment offers electric vehicles, as well as sells automotive regulatory credits; and non-warranty after-sales vehicle, used vehicles, retail merchandise, and vehicle insurance services. This segment also provides sedans and sport utility vehicles through direct and used vehicle sales, a network of Tesla Superchargers, and in-app upgrades; purchase financing and leasing services; services for electric vehicles through its company-owned service locations and Tesla mobile service technicians; and vehicle limited warranties and extended service plans. The Energy Generation and Storage segment engages in the design, manufacture, installation, sale, and leasing of solar energy generation and energy storage products, and related services to residential, commercial, and industrial customers and utilities through its website, stores, and galleries, as well as through a network of channel partners; and provision of service and repairs to its energy product customers, including under warranty, as well as various financing options to its solar customers. The company was formerly known as Tesla Motors, Inc. and changed its name to Tesla, Inc. in February 2017. Tesla, Inc. was incorporated in 2003 and is headquartered in Austin, Texas.',\n",
       " 'fullTimeEmployees': 127855,\n",
       " 'companyOfficers': [{'maxAge': 1,\n",
       "   'name': 'Mr. Elon R. Musk',\n",
       "   'age': 50,\n",
       "   'title': 'Technoking of Tesla, CEO & Director',\n",
       "   'yearBorn': 1972,\n",
       "   'fiscalYear': 2021,\n",
       "   'totalPay': 0,\n",
       "   'exercisedValue': 23452909568,\n",
       "   'unexercisedValue': 58325164032},\n",
       "  {'maxAge': 1,\n",
       "   'name': 'Mr. Zachary John Planell Kirkhorn',\n",
       "   'age': 37,\n",
       "   'title': 'Master of Coin & CFO',\n",
       "   'yearBorn': 1985,\n",
       "   'fiscalYear': 2021,\n",
       "   'totalPay': 301154,\n",
       "   'exercisedValue': 3204672,\n",
       "   'unexercisedValue': 518728320},\n",
       "  {'maxAge': 1,\n",
       "   'name': 'Mr. Andrew D. Baglino',\n",
       "   'age': 41,\n",
       "   'title': 'Sr. VP of Powertrain & Energy Engineering',\n",
       "   'yearBorn': 1981,\n",
       "   'fiscalYear': 2021,\n",
       "   'totalPay': 301154,\n",
       "   'exercisedValue': 20060192,\n",
       "   'unexercisedValue': 196973648},\n",
       "  {'maxAge': 1,\n",
       "   'name': 'Mr. Vaibhav  Taneja',\n",
       "   'age': 44,\n",
       "   'title': 'Corp. Controller & Chief Accounting Officer',\n",
       "   'yearBorn': 1978,\n",
       "   'exercisedValue': 0,\n",
       "   'unexercisedValue': 0},\n",
       "  {'maxAge': 1,\n",
       "   'name': 'Mr. Martin  Viecha',\n",
       "   'title': 'Sr. Director for Investor Relations',\n",
       "   'exercisedValue': 0,\n",
       "   'unexercisedValue': 0},\n",
       "  {'maxAge': 1,\n",
       "   'name': 'Mr. Alan  Prescott',\n",
       "   'age': 43,\n",
       "   'title': 'VP of Legal',\n",
       "   'yearBorn': 1979,\n",
       "   'exercisedValue': 0,\n",
       "   'unexercisedValue': 0},\n",
       "  {'maxAge': 1,\n",
       "   'name': 'Mr. Dave  Arnold',\n",
       "   'title': 'Sr. Director of Global Communications',\n",
       "   'exercisedValue': 0,\n",
       "   'unexercisedValue': 0},\n",
       "  {'maxAge': 1,\n",
       "   'name': 'Brian  Scelfo',\n",
       "   'title': 'Sr. Director of Corp. Devel.',\n",
       "   'exercisedValue': 0,\n",
       "   'unexercisedValue': 0},\n",
       "  {'maxAge': 1,\n",
       "   'name': 'Mr. Jeffrey B. Straubel',\n",
       "   'age': 46,\n",
       "   'title': 'Sr. Advisor',\n",
       "   'yearBorn': 1976,\n",
       "   'fiscalYear': 2018,\n",
       "   'exercisedValue': 0,\n",
       "   'unexercisedValue': 0},\n",
       "  {'maxAge': 1,\n",
       "   'name': 'Mr. Franz  von Holzhausen',\n",
       "   'title': 'Chief Designer',\n",
       "   'exercisedValue': 0,\n",
       "   'unexercisedValue': 0}],\n",
       " 'auditRisk': 9,\n",
       " 'boardRisk': 10,\n",
       " 'compensationRisk': 7,\n",
       " 'shareHolderRightsRisk': 10,\n",
       " 'overallRisk': 9,\n",
       " 'governanceEpochDate': '2023-01-31 18:00:00',\n",
       " 'compensationAsOfEpochDate': '2021-12-30 18:00:00',\n",
       " 'maxAge': 86400}"
      ]
     },
     "execution_count": 70,
     "metadata": {},
     "output_type": "execute_result"
    }
   ],
   "source": [
    "officers = tickers.yh_tickers[6436]\n",
    "officers"
   ]
  },
  {
   "cell_type": "code",
   "execution_count": 64,
   "metadata": {},
   "outputs": [],
   "source": [
    "# For every stock ticker symbol in stock_symbols, lookup the top executive and the company name.\n"
   ]
  },
  {
   "attachments": {},
   "cell_type": "markdown",
   "metadata": {},
   "source": [
    "Datasets:\n",
    "We need a historical dataset of stock prices.\n",
    "Secondly, we need a dataset of web trends for the same time period. \n",
    "\n",
    "On the other hand, once the model is trained, it needs to be able to aquire live data that looks the same as the training data.\n",
    "\n",
    "Possible sources:\n",
    "   - twitter\n",
    "   - google trends\n",
    "\n",
    "Possible models:\n",
    "    - Train a model to process text into an encoding\n",
    "    - Train a model to do stock price prediction\n",
    "    - Combine the two models to predict stock price/volatility (not sure which is best) from text with greater accuracy"
   ]
  },
  {
   "cell_type": "code",
   "execution_count": 65,
   "metadata": {},
   "outputs": [],
   "source": [
    "# Collect text web data"
   ]
  },
  {
   "cell_type": "code",
   "execution_count": 66,
   "metadata": {},
   "outputs": [],
   "source": [
    "# Collect stock data"
   ]
  },
  {
   "cell_type": "code",
   "execution_count": 67,
   "metadata": {},
   "outputs": [],
   "source": [
    "# "
   ]
  },
  {
   "cell_type": "code",
   "execution_count": null,
   "metadata": {},
   "outputs": [],
   "source": []
  },
  {
   "cell_type": "code",
   "execution_count": null,
   "metadata": {},
   "outputs": [],
   "source": []
  }
 ],
 "metadata": {
  "kernelspec": {
   "display_name": "base",
   "language": "python",
   "name": "python3"
  },
  "language_info": {
   "codemirror_mode": {
    "name": "ipython",
    "version": 3
   },
   "file_extension": ".py",
   "mimetype": "text/x-python",
   "name": "python",
   "nbconvert_exporter": "python",
   "pygments_lexer": "ipython3",
   "version": "3.10.9"
  },
  "orig_nbformat": 4,
  "vscode": {
   "interpreter": {
    "hash": "e24d580cd90f25849c35d3c32f0c90265f2b368a4b7f3db1b2b3f5c38c67d965"
   }
  }
 },
 "nbformat": 4,
 "nbformat_minor": 2
}
