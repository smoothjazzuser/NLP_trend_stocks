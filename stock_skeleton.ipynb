{
 "cells": [
  {
   "attachments": {},
   "cell_type": "markdown",
   "metadata": {},
   "source": [
    "Prototyping notebook for predicting stock volaitility, prices, etc using extra data from web trends, news, etc. "
   ]
  },
  {
   "cell_type": "code",
   "execution_count": 1,
   "metadata": {},
   "outputs": [],
   "source": [
    "import pandas as pd\n",
    "import numpy as np\n",
    "import matplotlib.pyplot as plt\n",
    "import torch as t\n",
    "import torch.nn as nn\n",
    "import torch.nn.functional as F\n",
    "import torch.optim as optim\n",
    "from torch.utils.data import Dataset, DataLoader\n",
    "from torch.autograd import Variable\n",
    "from glob import glob\n",
    "import os\n"
   ]
  },
  {
   "attachments": {},
   "cell_type": "markdown",
   "metadata": {},
   "source": [
    "1) Download and extract https://www.kaggle.com/datasets/footballjoe789/us-stock-dataset\n",
    "\n",
    "2) Copy Stocks/ to the same directory as this notebook. You can delete the other files as they are not used (yet, at least)."
   ]
  },
  {
   "cell_type": "code",
   "execution_count": 17,
   "metadata": {},
   "outputs": [
    {
     "data": {
      "text/html": [
       "<div>\n",
       "<style scoped>\n",
       "    .dataframe tbody tr th:only-of-type {\n",
       "        vertical-align: middle;\n",
       "    }\n",
       "\n",
       "    .dataframe tbody tr th {\n",
       "        vertical-align: top;\n",
       "    }\n",
       "\n",
       "    .dataframe thead th {\n",
       "        text-align: right;\n",
       "    }\n",
       "</style>\n",
       "<table border=\"1\" class=\"dataframe\">\n",
       "  <thead>\n",
       "    <tr style=\"text-align: right;\">\n",
       "      <th></th>\n",
       "      <th>Ticker</th>\n",
       "    </tr>\n",
       "  </thead>\n",
       "  <tbody>\n",
       "    <tr>\n",
       "      <th>0</th>\n",
       "      <td>A</td>\n",
       "    </tr>\n",
       "    <tr>\n",
       "      <th>1</th>\n",
       "      <td>AA</td>\n",
       "    </tr>\n",
       "    <tr>\n",
       "      <th>2</th>\n",
       "      <td>AAC</td>\n",
       "    </tr>\n",
       "    <tr>\n",
       "      <th>3</th>\n",
       "      <td>AACG</td>\n",
       "    </tr>\n",
       "    <tr>\n",
       "      <th>4</th>\n",
       "      <td>AACI</td>\n",
       "    </tr>\n",
       "  </tbody>\n",
       "</table>\n",
       "</div>"
      ],
      "text/plain": [
       "  Ticker\n",
       "0      A\n",
       "1     AA\n",
       "2    AAC\n",
       "3   AACG\n",
       "4   AACI"
      ]
     },
     "execution_count": 17,
     "metadata": {},
     "output_type": "execute_result"
    }
   ],
   "source": [
    "class stock_tickers(Dataset):\n",
    "    def __init__(self, file_path = 'Stocks/', file_ext = '.csv'):\n",
    "        self.delete_small_files(file_path, file_ext, min_size = 1000)\n",
    "        self.load_symbols(file_path, file_ext)\n",
    "        self.ticker_list_to_dataframe()\n",
    "\n",
    "    def load_symbols(self, file_path = 'Stocks/', file_ext = '.csv'):\n",
    "        \"\"\"Find all the stock symbols in the directory and return a list of them.\"\"\"\n",
    "        self.stocks_symbols = [name.split('.')[0].split(\"\"\"\\\\\"\"\")[-1] for name in glob (file_path+'*'+file_ext)]\n",
    "        return self.stocks_symbols\n",
    "\n",
    "    def delete_small_files(self, file_path = 'Stocks/', file_ext = '.csv', min_size = 1000):\n",
    "        \"\"\"Delete any files smaller than min_size bytes.\"\"\"\n",
    "        self.load_symbols()\n",
    "        file_sizes = [os.path.getsize(file_path+name+file_ext) for name in self.stocks_symbols]\n",
    "        if min(file_sizes) < min_size:\n",
    "            for i in range(len(file_sizes)):\n",
    "                if file_sizes[i] < min_size:\n",
    "                    os.remove(file_path+self.stocks_symbols[i]+file_ext)\n",
    "\n",
    "    def ticker_list_to_dataframe(self):\n",
    "        self.data = pd.DataFrame(self.stocks_symbols, columns = ['Ticker'])\n",
    "\n",
    "tickers = stock_tickers()\n",
    "tickers.data.head()"
   ]
  },
  {
   "cell_type": "code",
   "execution_count": 3,
   "metadata": {},
   "outputs": [],
   "source": [
    "# For every stock ticker symbol in stock_symbols, lookup the top executive and the company name.\n"
   ]
  },
  {
   "attachments": {},
   "cell_type": "markdown",
   "metadata": {},
   "source": [
    "Datasets:\n",
    "We need a historical dataset of stock prices.\n",
    "Secondly, we need a dataset of web trends for the same time period. \n",
    "\n",
    "On the other hand, once the model is trained, it needs to be able to aquire live data that looks the same as the training data.\n",
    "\n",
    "Possible sources:\n",
    "   - twitter\n",
    "   - google trends\n",
    "\n",
    "Possible models:\n",
    "    - Train a model to process text into an encoding\n",
    "    - Train a model to do stock price prediction\n",
    "    - Combine the two models to predict stock price/volatility (not sure which is best) from text with greater accuracy"
   ]
  },
  {
   "cell_type": "code",
   "execution_count": 4,
   "metadata": {},
   "outputs": [],
   "source": [
    "# Collect text web data"
   ]
  },
  {
   "cell_type": "code",
   "execution_count": 5,
   "metadata": {},
   "outputs": [],
   "source": [
    "# Collect stock data"
   ]
  },
  {
   "cell_type": "code",
   "execution_count": 6,
   "metadata": {},
   "outputs": [],
   "source": [
    "# "
   ]
  },
  {
   "cell_type": "code",
   "execution_count": null,
   "metadata": {},
   "outputs": [],
   "source": []
  },
  {
   "cell_type": "code",
   "execution_count": null,
   "metadata": {},
   "outputs": [],
   "source": []
  }
 ],
 "metadata": {
  "kernelspec": {
   "display_name": "base",
   "language": "python",
   "name": "python3"
  },
  "language_info": {
   "codemirror_mode": {
    "name": "ipython",
    "version": 3
   },
   "file_extension": ".py",
   "mimetype": "text/x-python",
   "name": "python",
   "nbconvert_exporter": "python",
   "pygments_lexer": "ipython3",
   "version": "3.10.9"
  },
  "orig_nbformat": 4,
  "vscode": {
   "interpreter": {
    "hash": "e24d580cd90f25849c35d3c32f0c90265f2b368a4b7f3db1b2b3f5c38c67d965"
   }
  }
 },
 "nbformat": 4,
 "nbformat_minor": 2
}
