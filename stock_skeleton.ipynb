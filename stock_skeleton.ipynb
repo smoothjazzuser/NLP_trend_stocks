{
 "cells": [
  {
   "attachments": {},
   "cell_type": "markdown",
   "metadata": {},
   "source": [
    "Prototyping notebook for predicting stock volaitility, prices, etc using extra data from web trends, news, etc. "
   ]
  },
  {
   "cell_type": "code",
   "execution_count": 1,
   "metadata": {},
   "outputs": [],
   "source": [
    "import pandas as pd\n",
    "import numpy as np\n",
    "import matplotlib.pyplot as plt\n",
    "import torch as t\n",
    "import torch.nn as nn\n",
    "import torch.nn.functional as F\n",
    "import torch.optim as optim\n",
    "from torch.utils.data import Dataset, DataLoader\n",
    "from torch.autograd import Variable\n"
   ]
  },
  {
   "attachments": {},
   "cell_type": "markdown",
   "metadata": {},
   "source": [
    "Download:\n",
    "https://www.kaggle.com/datasets/borismarjanovic/price-volume-data-for-all-us-stocks-etfs\n",
    "\n",
    "https://www.kaggle.com/datasets/aceofit/stockmarketdatafrom1996to2020\n",
    "\n",
    "https://www.kaggle.com/datasets/footballjoe789/us-stock-dataset\n",
    "\n",
    "https://www.kaggle.com/datasets/paulrohan2020/crspusstocksdatabasequarterly"
   ]
  },
  {
   "attachments": {},
   "cell_type": "markdown",
   "metadata": {},
   "source": [
    "Datasets:\n",
    "We need a historical dataset of stock prices.\n",
    "Secondly, we need a dataset of web trends for the same time period. \n",
    "\n",
    "On the other hand, once the model is trained, it needs to be able to aquire live data that looks the same as the training data.\n",
    "\n",
    "Possible sources:\n",
    "   - twitter\n",
    "   - google trends\n",
    "\n",
    "Possible models:\n",
    "    - Train a model to process text into an encoding\n",
    "    - Train a model to do stock price prediction\n",
    "    - Combine the two models to predict stock price/volatility (not sure which is best) from text with greater accuracy"
   ]
  },
  {
   "cell_type": "code",
   "execution_count": 2,
   "metadata": {},
   "outputs": [],
   "source": [
    "# Collect text web data"
   ]
  },
  {
   "cell_type": "code",
   "execution_count": 3,
   "metadata": {},
   "outputs": [],
   "source": [
    "# Collect stock data"
   ]
  },
  {
   "cell_type": "code",
   "execution_count": 4,
   "metadata": {},
   "outputs": [],
   "source": [
    "# "
   ]
  },
  {
   "cell_type": "code",
   "execution_count": null,
   "metadata": {},
   "outputs": [],
   "source": []
  },
  {
   "cell_type": "code",
   "execution_count": null,
   "metadata": {},
   "outputs": [],
   "source": []
  }
 ],
 "metadata": {
  "kernelspec": {
   "display_name": "base",
   "language": "python",
   "name": "python3"
  },
  "language_info": {
   "codemirror_mode": {
    "name": "ipython",
    "version": 3
   },
   "file_extension": ".py",
   "mimetype": "text/x-python",
   "name": "python",
   "nbconvert_exporter": "python",
   "pygments_lexer": "ipython3",
   "version": "3.9.13"
  },
  "orig_nbformat": 4,
  "vscode": {
   "interpreter": {
    "hash": "f1181078c0191f38c84b6689dcd00d7912e5416024502bcae734b9df37617078"
   }
  }
 },
 "nbformat": 4,
 "nbformat_minor": 2
}
